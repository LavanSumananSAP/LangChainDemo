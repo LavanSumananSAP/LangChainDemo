{
 "cells": [
  {
   "cell_type": "markdown",
   "metadata": {},
   "source": [
    "# Intro to LangChain\n",
    "\n",
    "## Motivation\n",
    "- LLM applications can be difficult to build and manage\n",
    "- LangChain provides a framework for building modular components and chaining them together to produce an LLM app\n",
    "- LangChain also provides plenty example apps and tools for connecting to various components (e.g. databases)\n",
    "- LangServe and LangSmith are additional tools for exposing an LLM app as a REST API and testing/debugging/monitoring respectively\n",
    "\n",
    "## Use Cases\n",
    "- Document question answering\n",
    "- Chatbots\n",
    "- Analyzing structured data\n",
    "\n",
    "## This Demo\n",
    "We'll create a simple app that takes natural language input, queries a database, and gives natural language output with LangChain.\n",
    "\n",
    "## Next Steps\n",
    "- Expose the app to consumers as a REST API with LangServe\n",
    "- Test, debug, and monitor the app with LangSmith"
   ]
  },
  {
   "cell_type": "code",
   "execution_count": null,
   "metadata": {},
   "outputs": [],
   "source": [
    "from dotenv import load_dotenv\n",
    "load_dotenv()\n",
    "import os\n",
    "\n",
    "from langchain.llms import OpenAI\n",
    "llm = OpenAI(openai_api_key=os.getenv(\"OPENAI_API_KEY\"))"
   ]
  }
 ],
 "metadata": {
  "language_info": {
   "name": "python"
  }
 },
 "nbformat": 4,
 "nbformat_minor": 2
}
